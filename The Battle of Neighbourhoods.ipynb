{
    "cells": [
        {
            "cell_type": "markdown",
            "metadata": {
                "collapsed": true
            },
            "source": "## __Introduction/Business Problem__"
        },
        {
            "cell_type": "markdown",
            "metadata": {},
            "source": "Clearly define a problem or an idea of your choice, where you would need to leverage the Foursquare location data to solve or execute. Remember that data science problems always target an audience and are meant to help a group of stakeholders solve a problem, so make sure that you explicitly describe your audience and why they would care about your problem.\n\n"
        },
        {
            "cell_type": "markdown",
            "metadata": {},
            "source": "*__The aim of this study is to find the best location to open an Asian restaurant in London__*"
        },
        {
            "cell_type": "markdown",
            "metadata": {},
            "source": "In order for a new restaurant to be successful, it must be in the best location possible. This comes down to a combination of restaurant style, target audience, as well as presence of competitors in the area. By defining the restaurant type, you can identify the target demographic and where this demographic is most populated.\n\nTarget market:\nTo open an asian restaurant in london, you must identify who you are aiming to attract to your venue. Will the audience be of Pakistani, Bangladeshi, Chinese and Indian origin? You must be aware of the age group, location and amount of money this audience will be willing to spend.\n\nCompetitors:\nYou must identify competitors in the chosen area and identify what they are doing well and what needs to be improved. You need to be better than them.\n\nConsider opening the restaurant in an area where there are not already many similar restuarants in the area, as this would reduce chances of success. Look for an area with a gap in the market. However, if there are no similar restaurants in the area, then why not? Do some research to ensure this is the best location.\n\nLocation and premises:\nHere are some factors that you should consider when finding premises for your new restaurant:\n- Location: how acccessible? Are there many competitors nearby?\n- Building type: what type of building would you like your restaurant to be in?\n- Target market: ensure it is in an area where your target market exists.\n- Cost: realistic price point"
        },
        {
            "cell_type": "markdown",
            "metadata": {},
            "source": "## Data"
        },
        {
            "cell_type": "markdown",
            "metadata": {},
            "source": "Describe the data that you will be using to solve the problem or execute your idea. Remember that you will need to use the Foursquare location data to solve the problem or execute your idea. You can absolutely use other datasets in combination with the Foursquare location data. So make sure that you provide adequate explanation and discussion, with examples, of the data that you will be using, even if it is only Foursquare location data."
        },
        {
            "cell_type": "markdown",
            "metadata": {},
            "source": "*__London is one of the most ethnically diverse cities in the world. The demography of London has been analysed by the Office for National statistics and we will be using the data relating to the 32 Boroughs of London.__*\n\nTo solve our problem, we need to create datasets based on various parameters including:\n- Population of target audience in all boroughs of London based on their Asian ethnicity.\n- Data describing the required business floorspace and rateable value statistics of each borough.\n- Data regarding competitors - and so data of existting licensed restaurnats in each borough.\n- The borough level tourist and domestic annual spend estimates.\n\n*__All of this infomration is available at London Datastore, which is publically avaiilable at this website:\nhttps://data.london.gov.uk/__*\n\n*__We will also use the Foursquare location data to solve the problem.__*\n\n"
        },
        {
            "cell_type": "markdown",
            "metadata": {},
            "source": "## Methodolody"
        },
        {
            "cell_type": "markdown",
            "metadata": {},
            "source": "To work on the solution, I used a pandas library to read the data in CSV format and convert into pandas DF. Extensive data exploration analysisis done, where a lot of data is cleaned and presented in a suitable format.\n\nAfter the prediction of rated value per sqm of a retail space is completed and when we are convinced that a particular borough will be the preferred location for the restaurant, we have to get the necessary data of that borough. \n\nFirst we need to get the geo-coordinates of the borough and the geo-coordinates of the neighbourhoods of the borough from the web. I have used the Wikipedia pages to get this data.\nhttps://en.wikipedia.org/wiki/List_of_London_boroughs\nhttps://en.wikipedia.org/wiki/List_of_areas_of_London\n \nTo read data from these URLs, I have used the requests, urllib and BeautifulSoup libraries of python. \n\n After I have the geo-coordinates information of the borough and its neighbourhoods, I need the other data such as the venues or places of the neighbourhoods, the venue categories, working hours and so on. All this data is called Location data, and to get this data I need a reliable and efficient location data providers and hence I am using Foursquare as the data provider.  I have used the Foursquare API to explore the neighbourhoods in London city. I have also used the Explore function to get the most common venue categories in each neighbourhood and then use this feature to group the neighbourhoods into clusters. To cluster the neighbourhoods I am using K-means Clustering algorithm. \n\n\nGeopy module and Nominatim library is used to convert a given address into the latitude and longitude values. \n\nTo visualize the neighbourhoods, the library Folium is used, to display the maps of London, with the boroughs super imposed on it and to display the map of borough with the neighbourhoods superimposed on it. \n\nA python function getNearbyVenues() is created , to give the venue details like venue name, venue latitude, venue longitude, venue category along with neighbourhood name, latitude and longitude for each neighbourhood. \n\nAfter the venue data for each neighbourhood of the Newham borough is generated , One-Hot encoding is applied on the venue category data, so that the analysis of the data will be easy in grouping the neighbourhoods based on the  frequency of occurrence of each venue category. \n\nOnce the neighbourhoods are grouped based on the frequency of occurrence of the venue category, the top 10 venues of each neighbourhood are displayed as a dataframe. \n\nAfter all the above data exploration and analysis and top 10 venues of each neighbourhood are identified, the K-means Clustering algorithm is applied to the resultant dataframe to segment the data into 5 Clusters and all these 5 clusters are visualised in a map using the Folium library and finally the 5 clusters are examined to determine the discriminating venue categories that distinguish each cluster."
        },
        {
            "cell_type": "markdown",
            "metadata": {},
            "source": "## Results"
        },
        {
            "cell_type": "markdown",
            "metadata": {},
            "source": "From the data sets of asian population, we found that Newham borough is having highest asian population and from the rated value data set, the prices in this borough are less compared to other boroughs. These 2 factors influenced more on my decision of choosing Newham borough as the preferred location for our restaurant. The Newham borough has 146 existing restaurants and taking this as a independent variable (X variable) I have predicted the rated value per sqm(dependant variable) between 160 to 165 using the Linear Regression model.  I have also calculated the MAE and R-Squared with the test data, though we got less values for these metrics due to less available test data.\n\nIn the Segmenting and Clustering section, the neighbourhoods of Newham borough are explored, and the top 10 venues of each neighbourhood are listed. The neighbourhoods are Clustered into 5 clusters using K-means algorithm and their most common neighbourhoods are identified. After applying the K-means algorithm the 5 neighbourhoods Beckton, Custom House, Maryland, Eastham and Manor Park are identified as best locations to open or start an asian restaurant. \n\n"
        },
        {
            "cell_type": "markdown",
            "metadata": {},
            "source": "## Discussion"
        },
        {
            "cell_type": "markdown",
            "metadata": {},
            "source": "My observation after doing this analysis is the model we used could have given better results, if we had huge data to train and test our model. In spite of that this model gives us a better insight for our problem and also help us to gain better results. From the clustering results our problem finds a better solution of identifying the best location for the asian restaurant. We could explore all the neighbourhoods of the borough and could list the most common venues based on their frequency of occurrence.  From these results I can strongly recommend the Beckton, Custom house and few other neighbourhoods as a preferred location for our restaurant , as these areas have the restaurant venue as the most common venue."
        },
        {
            "cell_type": "markdown",
            "metadata": {},
            "source": "## Conclusion"
        },
        {
            "cell_type": "markdown",
            "metadata": {},
            "source": "There is always room for improvement and hence the above solution I have provided can also be improved and the machine learning models can be trained and tested for best results depending upon the data we have. "
        },
        {
            "cell_type": "code",
            "execution_count": null,
            "metadata": {},
            "outputs": [],
            "source": ""
        }
    ],
    "metadata": {
        "kernelspec": {
            "display_name": "Python 3.6",
            "language": "python",
            "name": "python3"
        },
        "language_info": {
            "codemirror_mode": {
                "name": "ipython",
                "version": 3
            },
            "file_extension": ".py",
            "mimetype": "text/x-python",
            "name": "python",
            "nbconvert_exporter": "python",
            "pygments_lexer": "ipython3",
            "version": "3.6.9"
        }
    },
    "nbformat": 4,
    "nbformat_minor": 1
}