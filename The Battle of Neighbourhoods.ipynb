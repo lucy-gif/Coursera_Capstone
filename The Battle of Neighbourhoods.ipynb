{
    "cells": [
        {
            "cell_type": "markdown",
            "metadata": {
                "collapsed": true
            },
            "source": "## __Introduction/Business Problem__"
        },
        {
            "cell_type": "markdown",
            "metadata": {},
            "source": "Clearly define a problem or an idea of your choice, where you would need to leverage the Foursquare location data to solve or execute. Remember that data science problems always target an audience and are meant to help a group of stakeholders solve a problem, so make sure that you explicitly describe your audience and why they would care about your problem.\n\n"
        },
        {
            "cell_type": "markdown",
            "metadata": {},
            "source": "*__The aim of this study is to find the best location to open an Asian restaurant in London__*"
        },
        {
            "cell_type": "markdown",
            "metadata": {},
            "source": "In order for a new restaurant to be successful, it must be in the best location possible. This comes down to a combination of restaurant style, target audience, as well as presence of competitors in the area. By defining the restaurant type, you can identify the target demographic and where this demographic is most populated.\n\nTarget market:\nTo open an asian restaurant in london, you must identify who you are aiming to attract to your venue. Will the audience be of Pakistani, Bangladeshi, Chinese and Indian origin? You must be aware of the age group, location and amount of money this audience will be willing to spend.\n\nCompetitors:\nYou must identify competitors in the chosen area and identify what they are doing well and what needs to be improved. You need to be better than them.\n\nConsider opening the restaurant in an area where there are not already many similar restuarants in the area, as this would reduce chances of success. Look for an area with a gap in the market. However, if there are no similar restaurants in the area, then why not? Do some research to ensure this is the best location.\n\nLocation and premises:\nHere are some factors that you should consider when finding premises for your new restaurant:\n- Location: how acccessible? Are there many competitors nearby?\n- Building type: what type of building would you like your restaurant to be in?\n- Target market: ensure it is in an area where your target market exists.\n- Cost: realistic price point"
        },
        {
            "cell_type": "markdown",
            "metadata": {},
            "source": "## Data"
        },
        {
            "cell_type": "markdown",
            "metadata": {},
            "source": "Describe the data that you will be using to solve the problem or execute your idea. Remember that you will need to use the Foursquare location data to solve the problem or execute your idea. You can absolutely use other datasets in combination with the Foursquare location data. So make sure that you provide adequate explanation and discussion, with examples, of the data that you will be using, even if it is only Foursquare location data."
        },
        {
            "cell_type": "markdown",
            "metadata": {},
            "source": "*__London is one of the most ethnically diverse cities in the world. The demography of London has been analysed by the Office for National statistics and we will be using the data relating to the 32 Boroughs of London.__*\n\nTo solve our problem, we need to create datasets based on various parameters including:\n- Population of target audience in all boroughs of London based on their Asian ethnicity, age, gender, employment status, income.\n- Data describing the required business floorspace and rateable value statistics of each borough.\n- Data regarding competitors - and so data of existting licensed restaurnats in each borough.\n- The borough level tourist and domestic annual spend estimates.\n\n*__All of this infomration is available at London Datastore, which is publically avaiilable at this website:\nhttps://data.london.gov.uk/__*\n\n*__We will also use the Foursquare location data to solve the problem.__*\n\n"
        },
        {
            "cell_type": "code",
            "execution_count": null,
            "metadata": {},
            "outputs": [],
            "source": ""
        }
    ],
    "metadata": {
        "kernelspec": {
            "display_name": "Python 3.6",
            "language": "python",
            "name": "python3"
        },
        "language_info": {
            "codemirror_mode": {
                "name": "ipython",
                "version": 3
            },
            "file_extension": ".py",
            "mimetype": "text/x-python",
            "name": "python",
            "nbconvert_exporter": "python",
            "pygments_lexer": "ipython3",
            "version": "3.6.9"
        }
    },
    "nbformat": 4,
    "nbformat_minor": 1
}